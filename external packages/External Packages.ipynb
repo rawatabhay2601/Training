{
 "cells": [
  {
   "cell_type": "markdown",
   "id": "a7c4ee88",
   "metadata": {},
   "source": [
    "### Writing program to demonstrate deep and shallow copy"
   ]
  },
  {
   "cell_type": "code",
   "execution_count": 10,
   "id": "02c40327",
   "metadata": {},
   "outputs": [
    {
     "data": {
      "text/plain": [
       "([1, [4, 5], 6], [1, [10, 5], 6])"
      ]
     },
     "execution_count": 10,
     "metadata": {},
     "output_type": "execute_result"
    }
   ],
   "source": [
    "#deep copy\n",
    "\n",
    "import copy\n",
    "\n",
    "list_one = [1,[4,5],6]\n",
    "list_two = copy.deepcopy(list_one)\n",
    "\n",
    "list_one[1][0] = 10\n",
    "list_two,list_one"
   ]
  },
  {
   "cell_type": "code",
   "execution_count": 11,
   "id": "6af216ab",
   "metadata": {},
   "outputs": [
    {
     "name": "stdout",
     "output_type": "stream",
     "text": [
      "[2, 3, [10, 5], 6] [2, 3, [10, 5], 6]\n"
     ]
    }
   ],
   "source": [
    "#shallow copy\n",
    "\n",
    "l_1 = [2,3,[4,5],6]\n",
    "l_2 = copy.copy(l_1)\n",
    "\n",
    "l_1[2][0] = 10\n",
    "print(l_1,l_2)"
   ]
  },
  {
   "cell_type": "markdown",
   "id": "6296cfbc",
   "metadata": {},
   "source": [
    "### How to combine many series to form a dataframe?"
   ]
  },
  {
   "cell_type": "code",
   "execution_count": 12,
   "id": "590001ba",
   "metadata": {},
   "outputs": [
    {
     "data": {
      "text/html": [
       "<div>\n",
       "<style scoped>\n",
       "    .dataframe tbody tr th:only-of-type {\n",
       "        vertical-align: middle;\n",
       "    }\n",
       "\n",
       "    .dataframe tbody tr th {\n",
       "        vertical-align: top;\n",
       "    }\n",
       "\n",
       "    .dataframe thead th {\n",
       "        text-align: right;\n",
       "    }\n",
       "</style>\n",
       "<table border=\"1\" class=\"dataframe\">\n",
       "  <thead>\n",
       "    <tr style=\"text-align: right;\">\n",
       "      <th></th>\n",
       "      <th>Series 1</th>\n",
       "      <th>Series 2</th>\n",
       "      <th>Series 3</th>\n",
       "    </tr>\n",
       "  </thead>\n",
       "  <tbody>\n",
       "    <tr>\n",
       "      <th>0</th>\n",
       "      <td>30</td>\n",
       "      <td>67</td>\n",
       "      <td>44</td>\n",
       "    </tr>\n",
       "    <tr>\n",
       "      <th>1</th>\n",
       "      <td>64</td>\n",
       "      <td>97</td>\n",
       "      <td>36</td>\n",
       "    </tr>\n",
       "    <tr>\n",
       "      <th>2</th>\n",
       "      <td>87</td>\n",
       "      <td>33</td>\n",
       "      <td>25</td>\n",
       "    </tr>\n",
       "    <tr>\n",
       "      <th>3</th>\n",
       "      <td>80</td>\n",
       "      <td>35</td>\n",
       "      <td>3</td>\n",
       "    </tr>\n",
       "    <tr>\n",
       "      <th>4</th>\n",
       "      <td>37</td>\n",
       "      <td>4</td>\n",
       "      <td>70</td>\n",
       "    </tr>\n",
       "  </tbody>\n",
       "</table>\n",
       "</div>"
      ],
      "text/plain": [
       "   Series 1  Series 2  Series 3\n",
       "0        30        67        44\n",
       "1        64        97        36\n",
       "2        87        33        25\n",
       "3        80        35         3\n",
       "4        37         4        70"
      ]
     },
     "execution_count": 12,
     "metadata": {},
     "output_type": "execute_result"
    }
   ],
   "source": [
    "import numpy as np\n",
    "import pandas as pd\n",
    "\n",
    "series1 = [np.random.randint(0,100) for i in range(5)]\n",
    "series2 = [np.random.randint(0,100) for i in range(5)]\n",
    "series3 = [np.random.randint(0,100) for i in range(5)]\n",
    "\n",
    "data = pd.DataFrame({})\n",
    "data['Series 1'] = series1\n",
    "data['Series 2'] = series2\n",
    "data['Series 3'] = series3\n",
    "data"
   ]
  },
  {
   "cell_type": "markdown",
   "id": "9db00d25",
   "metadata": {},
   "source": [
    "### Replace items that satisfy a condition with another value in numpy array"
   ]
  },
  {
   "cell_type": "code",
   "execution_count": 13,
   "id": "f772c781",
   "metadata": {},
   "outputs": [
    {
     "name": "stdout",
     "output_type": "stream",
     "text": [
      "[30  0  0  0 37]\n"
     ]
    }
   ],
   "source": [
    "import numpy as np\n",
    " \n",
    "array = data['Series 1']\n",
    " \n",
    "an_array = np.where(array>50, 0, array)\n",
    "print(an_array)"
   ]
  },
  {
   "cell_type": "code",
   "execution_count": null,
   "id": "6be4f041",
   "metadata": {},
   "outputs": [],
   "source": []
  }
 ],
 "metadata": {
  "kernelspec": {
   "display_name": "Python 3",
   "language": "python",
   "name": "python3"
  },
  "language_info": {
   "codemirror_mode": {
    "name": "ipython",
    "version": 3
   },
   "file_extension": ".py",
   "mimetype": "text/x-python",
   "name": "python",
   "nbconvert_exporter": "python",
   "pygments_lexer": "ipython3",
   "version": "3.8.8"
  }
 },
 "nbformat": 4,
 "nbformat_minor": 5
}
