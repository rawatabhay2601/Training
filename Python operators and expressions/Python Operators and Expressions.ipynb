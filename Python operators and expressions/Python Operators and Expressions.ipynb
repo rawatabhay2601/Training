{
 "cells": [
  {
   "cell_type": "code",
   "execution_count": 1,
   "id": "344cfb5c",
   "metadata": {},
   "outputs": [
    {
     "name": "stdout",
     "output_type": "stream",
     "text": [
      "<class 'str'>\n",
      "<class 'int'>\n"
     ]
    }
   ],
   "source": [
    "#Converting integers to strings and vice versa\n",
    "\n",
    "integer = 10\n",
    "string = '10'\n",
    "print(type(str(integer))) #integer to string\n",
    "print(type(int(string))) #string to integer"
   ]
  },
  {
   "cell_type": "code",
   "execution_count": 2,
   "id": "a8cf6e48",
   "metadata": {},
   "outputs": [
    {
     "name": "stdout",
     "output_type": "stream",
     "text": [
      "This is the '/' operator output : 0.5\n",
      "This is the '//' operator output : 0\n"
     ]
    }
   ],
   "source": [
    "#comparing output of '/' and '//'\n",
    "\n",
    "\n",
    "num1 = 20\n",
    "num2 = 40\n",
    "\n",
    "print(\"This is the '/' operator output : {}\".format(num1/num2))\n",
    "print(\"This is the '//' operator output : {}\".format(num1//num2))"
   ]
  },
  {
   "cell_type": "raw",
   "id": "6afebabb",
   "metadata": {},
   "source": [
    "#Expression vs Statements\n",
    "\n",
    "\n",
    "Expression : \n",
    "- Expressions always returns a value\n",
    "- Functions are also expressions. Even a non returning function will still return None value, so it is an expression.\n",
    "-Can print the result value\n",
    "-Examples Of Python Expressions: “Hello” + “World”, 4 + 5 etc.\n",
    "\n",
    "Statements :\n",
    "- A statement never returns a value\n",
    "- Cannot print any result\n",
    "-Examples Of Python Statements: Assignment statements, conditional branching, loops, classes, import, def, try, except, pass, del etc"
   ]
  }
 ],
 "metadata": {
  "kernelspec": {
   "display_name": "Python 3",
   "language": "python",
   "name": "python3"
  },
  "language_info": {
   "codemirror_mode": {
    "name": "ipython",
    "version": 3
   },
   "file_extension": ".py",
   "mimetype": "text/x-python",
   "name": "python",
   "nbconvert_exporter": "python",
   "pygments_lexer": "ipython3",
   "version": "3.8.8"
  }
 },
 "nbformat": 4,
 "nbformat_minor": 5
}
