{
 "cells": [
  {
   "cell_type": "code",
   "execution_count": 1,
   "id": "bac598af",
   "metadata": {},
   "outputs": [
    {
     "name": "stdout",
     "output_type": "stream",
     "text": [
      "1 - Addition\n",
      "2 - Substraction\n",
      "3 - Multiplication\n",
      "4 - Division\n",
      "5 - Floor Division\n",
      "6 - Modulo\n",
      "Choose your option :- 1\n",
      "Addition: 17\n"
     ]
    }
   ],
   "source": [
    "#Basic calculator in python\n",
    "\n",
    "\n",
    "a, b = 15, 2  # initializing the inputs\n",
    "\n",
    "print(\"1 - Addition\\n2 - Substraction\\n3 - Multiplication\\n4 - Division\\n5 - Floor Division\\n6 - Modulo\") ## displaying user choices\n",
    "\n",
    "option = int(input(\"Choose your option :- \"))  # getting option from the user\n",
    "\n",
    "# writing condition to perform respective operation\n",
    "if option == 1:\n",
    "   print(f\"Addition: {a + b}\")\n",
    "elif option == 2:\n",
    "   print(f\"Substraction: {a - b}\")\n",
    "elif option == 3:\n",
    "   print(f\"Multiplication: {a * b}\")\n",
    "elif option == 4:\n",
    "   print(f\"Division: {a / b}\")\n",
    "elif option == 5:\n",
    "   print(f\"Floor Division: {a // b}\")\n",
    "elif option == 6:\n",
    "   print(f\"Modulo: {a % b}\")"
   ]
  },
  {
   "cell_type": "code",
   "execution_count": 2,
   "id": "8b76567d",
   "metadata": {},
   "outputs": [
    {
     "name": "stdout",
     "output_type": "stream",
     "text": [
      "Enter 1st Number: 1\n",
      "Enter 2nd Number: 5\n",
      "5\n"
     ]
    }
   ],
   "source": [
    "# Re-write program for calculator application applying switch case functionality in Python\n",
    "\n",
    "\n",
    "a = int(input(\"Enter 1st Number: \"))\n",
    "b = int(input(\"Enter 2nd Number: \"))\n",
    "def calculator(option):\n",
    "    switcher = {\n",
    "    'addition':a+b,\n",
    "    'multiplication':a*b,\n",
    "    'subtraction':a-b,\n",
    "    'division':a/b,\n",
    "    'floor division':a // b,\n",
    "    'modulo':a % b\n",
    "    }\n",
    "    return switcher.get(option,\"Invalid Option!\")\n",
    "\n",
    "result = calculator('multiplication')\n",
    "print(result)"
   ]
  },
  {
   "cell_type": "code",
   "execution_count": 3,
   "id": "1c1060e8",
   "metadata": {},
   "outputs": [
    {
     "name": "stdout",
     "output_type": "stream",
     "text": [
      "First number : 2\n",
      "Second number : 50\n",
      "Third number : 4\n",
      "Largest number :  50\n"
     ]
    }
   ],
   "source": [
    "#Demonstrating one line if by writing a program for greatest of 3 numbers\n",
    "\n",
    "\n",
    "a = int(input('First number : '))\n",
    "b = int(input('Second number : '))\n",
    "c = int(input('Third number : '))\n",
    "\n",
    "if (a > b) and (a > c):\n",
    "    largest = a\n",
    "elif (b > a) and (b > c):\n",
    "    largest = b\n",
    "else:\n",
    "    largest = c\n",
    "\n",
    "\n",
    "print('Largest number : ',largest)"
   ]
  },
  {
   "cell_type": "code",
   "execution_count": null,
   "id": "ecf332bc",
   "metadata": {},
   "outputs": [],
   "source": []
  }
 ],
 "metadata": {
  "kernelspec": {
   "display_name": "Python 3",
   "language": "python",
   "name": "python3"
  },
  "language_info": {
   "codemirror_mode": {
    "name": "ipython",
    "version": 3
   },
   "file_extension": ".py",
   "mimetype": "text/x-python",
   "name": "python",
   "nbconvert_exporter": "python",
   "pygments_lexer": "ipython3",
   "version": "3.8.8"
  }
 },
 "nbformat": 4,
 "nbformat_minor": 5
}
