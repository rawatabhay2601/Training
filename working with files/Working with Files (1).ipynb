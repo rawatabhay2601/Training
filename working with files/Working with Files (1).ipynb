{
 "cells": [
  {
   "cell_type": "markdown",
   "id": "5498d774",
   "metadata": {},
   "source": [
    "# Working with Files"
   ]
  },
  {
   "cell_type": "markdown",
   "id": "7bd76c26",
   "metadata": {},
   "source": [
    "### Write a program to copy from one file to another"
   ]
  },
  {
   "cell_type": "code",
   "execution_count": 3,
   "id": "02649292",
   "metadata": {},
   "outputs": [],
   "source": [
    "# open both files\n",
    "with open(r'C:\\Users\\hp\\Desktop\\firstText.txt','r') as firstfile, open(r'C:\\Users\\hp\\Desktop\\secondText.txt','a') as secondfile:\n",
    "      \n",
    "    for line in firstfile:         #reading first file and appending the content into hte second file\n",
    "        secondfile.write(line)"
   ]
  },
  {
   "cell_type": "code",
   "execution_count": 6,
   "id": "01901e0b",
   "metadata": {},
   "outputs": [
    {
     "name": "stdout",
     "output_type": "stream",
     "text": [
      "Hi !!\n",
      "This is the second text file !!\n",
      "Bye !!\n",
      "Hello \n",
      "This is the first file\n",
      "Goodbye\n"
     ]
    }
   ],
   "source": [
    "with open(r'C:\\Users\\hp\\Desktop\\secondText.txt','r') as second:\n",
    "    print(second.read())"
   ]
  },
  {
   "cell_type": "markdown",
   "id": "f872f614",
   "metadata": {},
   "source": [
    "### Write a program to count the number of times a character appears in the File"
   ]
  },
  {
   "cell_type": "code",
   "execution_count": 2,
   "id": "a8d87f25",
   "metadata": {},
   "outputs": [],
   "source": [
    "def character_frequency(file_name, character):\n",
    "    \n",
    "    # open file in read mode\n",
    "    file = open(file_name, 'r')\n",
    "  \n",
    "    # store content of the file in a variable\n",
    "    text = file.read()\n",
    "  \n",
    "    # using count()\n",
    "    return text.count(character)\n",
    "  "
   ]
  },
  {
   "cell_type": "code",
   "execution_count": null,
   "id": "5eea6a7a",
   "metadata": {},
   "outputs": [],
   "source": []
  }
 ],
 "metadata": {
  "kernelspec": {
   "display_name": "Python 3",
   "language": "python",
   "name": "python3"
  },
  "language_info": {
   "codemirror_mode": {
    "name": "ipython",
    "version": 3
   },
   "file_extension": ".py",
   "mimetype": "text/x-python",
   "name": "python",
   "nbconvert_exporter": "python",
   "pygments_lexer": "ipython3",
   "version": "3.8.8"
  }
 },
 "nbformat": 4,
 "nbformat_minor": 5
}
