{
 "cells": [
  {
   "cell_type": "markdown",
   "id": "4af0b4bc",
   "metadata": {},
   "source": [
    "# Variables in Python"
   ]
  },
  {
   "cell_type": "code",
   "execution_count": null,
   "id": "579581d5",
   "metadata": {},
   "outputs": [],
   "source": [
    "#assigning value to a variable\n",
    "\n",
    "var = 10"
   ]
  },
  {
   "cell_type": "markdown",
   "id": "1a6e1052",
   "metadata": {},
   "source": [
    "### Differentiating between valid and invalid identifiers\n",
    "\n",
    "\n",
    "\n",
    "\n",
    "Identifiers are names given to different entities such as constants, variables, structures, functions, etc.\n",
    "\n",
    "Conditions for naming identifiers:\n",
    "\n",
    "- Identifiers can only be alphanumeric(a-z,A-Z,0-9) and underscore(_)\n",
    "- Identifiers are case sensitive\n",
    "- Identifiers cannot start with a number\n",
    "- Keywords cannot be used in identifiers\n",
    "\n",
    "All the above points can help one distinguish between valid and invalid varible names"
   ]
  },
  {
   "cell_type": "markdown",
   "id": "57db8e51",
   "metadata": {},
   "source": [
    "### Differentiate between a keywords and identifiers\n",
    "\n",
    "\n",
    "\n",
    "\n",
    "\n",
    "Keywords are the reserved words, used to carry out specific functions, that we cannot use to name a variable, class, function etc.\n",
    "\n",
    "Identifier is a name given to a variable, class, function etc which is used to identify it.\n",
    "\n",
    "Following are some differentiating points:\n",
    "\n",
    "- Keywords are distinct; they are not further classified. On the contrary, if identifiers are involved in an external link process, i.e. if it include function names and global variable that are shared between files, then it is called ‘external names’, while they are not used in external link process and include the name of local variable, then it is called ‘internal names’.\n",
    "\n",
    "- A keyword always starts with a lower case. As against, an identifier can either start with an upper case or a lower case\n"
   ]
  },
  {
   "cell_type": "markdown",
   "id": "42c9a0c4",
   "metadata": {},
   "source": [
    "### Name some types of Values, what function to check the type of a variable\n",
    "\n",
    "\n",
    "\n",
    "Types of values :\n",
    "\n",
    "- integer\n",
    "- float\n",
    "\n",
    "We can use 'type()' function to know the type of an object"
   ]
  },
  {
   "cell_type": "code",
   "execution_count": null,
   "id": "c2663a91",
   "metadata": {},
   "outputs": [],
   "source": []
  }
 ],
 "metadata": {
  "kernelspec": {
   "display_name": "Python 3",
   "language": "python",
   "name": "python3"
  },
  "language_info": {
   "codemirror_mode": {
    "name": "ipython",
    "version": 3
   },
   "file_extension": ".py",
   "mimetype": "text/x-python",
   "name": "python",
   "nbconvert_exporter": "python",
   "pygments_lexer": "ipython3",
   "version": "3.8.8"
  }
 },
 "nbformat": 4,
 "nbformat_minor": 5
}
