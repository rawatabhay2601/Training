{
 "cells": [
  {
   "cell_type": "code",
   "execution_count": 1,
   "id": "e433ba3d",
   "metadata": {},
   "outputs": [
    {
     "data": {
      "text/plain": [
       "[58, 16, 54, 54, 40, 90, 78, 36, 62, 56]"
      ]
     },
     "execution_count": 1,
     "metadata": {},
     "output_type": "execute_result"
    }
   ],
   "source": [
    "#Other numeric series and related programs\n",
    "import random\n",
    "\n",
    "num_series = [random.randrange(2,100,2) for x in range(10)] #creating a random numeric series\n",
    "num_series"
   ]
  },
  {
   "cell_type": "code",
   "execution_count": 2,
   "id": "594cdb0d",
   "metadata": {},
   "outputs": [
    {
     "name": "stdout",
     "output_type": "stream",
     "text": [
      "Enter any number : 5\n",
      "5  is an armstrong number\n"
     ]
    }
   ],
   "source": [
    "#  Checking if a given number is an Armstrong number\n",
    "\n",
    "\n",
    "value = input('Enter any number : ')\n",
    "no_of_digits = len(value)\n",
    "list_digits = [int(x) for x in value]\n",
    "squares = [x**no_of_digits for x in list_digits]\n",
    "\n",
    "sum_of_square = 0\n",
    "for i in squares:\n",
    "    sum_of_square += i\n",
    "\n",
    "if int(sum_of_square) == int(value):\n",
    "    print(value,' is an armstrong number')\n",
    "else:\n",
    "    print(value,' is not an armstrong number')"
   ]
  },
  {
   "cell_type": "code",
   "execution_count": 3,
   "id": "3197df5b",
   "metadata": {},
   "outputs": [
    {
     "data": {
      "text/plain": [
       "{'a': [1, 3], 'b': [2], 'c': [4]}"
      ]
     },
     "execution_count": 3,
     "metadata": {},
     "output_type": "execute_result"
    }
   ],
   "source": [
    "#   Building a dictionary dynamically\n",
    "\n",
    "new_dict= {}\n",
    "input_list= [['a', 1], ['b', 2], ['a', 3], ['c', 4]]   #list is the input where 'a','b','c', are keys and 1,2,3,4 are values\n",
    "\n",
    "for i in range(len(input_list)):\n",
    "    if input_list[i][0] in new_dict.keys():   # if key is present in the list\n",
    "        new_dict[input_list[i][0]].append(input_list[i][1])   # append the value\n",
    "    else:\n",
    "        new_dict[input_list[i][0]]= []    # else create a empty list as value for the key\n",
    "        new_dict[input_list[i][0]].append(input_list[i][1])    # now append the value for that key\n",
    "\n",
    "\n",
    "new_dict"
   ]
  },
  {
   "cell_type": "code",
   "execution_count": 4,
   "id": "92c84065",
   "metadata": {},
   "outputs": [
    {
     "name": "stdout",
     "output_type": "stream",
     "text": [
      "Set the upper limit for the range : 100\n",
      "Set the lower limit for the range : 50\n",
      "[]\n"
     ]
    }
   ],
   "source": [
    "#Identifying Armstrong numbers within a given range\n",
    "\n",
    "upper_limit = int(input('Set the upper limit for the range : '))\n",
    "lower_limit = int(input('Set the lower limit for the range : '))\n",
    "\n",
    "armstrong_numbers = []\n",
    "\n",
    "for i in range(lower_limit,upper_limit+1):   #iterating over the range\n",
    "    \n",
    "    no_of_digits = len(str(i))\n",
    "    list_digits = [int(x) for x in str(i)]\n",
    "    squares = [y**no_of_digits for y in list_digits]\n",
    "\n",
    "    sum_of_square = 0\n",
    "    for j in squares:\n",
    "        sum_of_square += j\n",
    "\n",
    "    if int(sum_of_square) == int(i):\n",
    "        armstrong_numbers.append(int(i))\n",
    "\n",
    "print(armstrong_numbers)"
   ]
  },
  {
   "cell_type": "code",
   "execution_count": null,
   "id": "33b01356",
   "metadata": {},
   "outputs": [],
   "source": []
  }
 ],
 "metadata": {
  "kernelspec": {
   "display_name": "Python 3",
   "language": "python",
   "name": "python3"
  },
  "language_info": {
   "codemirror_mode": {
    "name": "ipython",
    "version": 3
   },
   "file_extension": ".py",
   "mimetype": "text/x-python",
   "name": "python",
   "nbconvert_exporter": "python",
   "pygments_lexer": "ipython3",
   "version": "3.8.8"
  }
 },
 "nbformat": 4,
 "nbformat_minor": 5
}
