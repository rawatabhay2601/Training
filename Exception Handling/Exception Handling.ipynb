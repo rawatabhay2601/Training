{
 "cells": [
  {
   "cell_type": "markdown",
   "id": "7b69f476",
   "metadata": {},
   "source": [
    "# Exception Handling"
   ]
  },
  {
   "cell_type": "markdown",
   "id": "3a726a51",
   "metadata": {},
   "source": [
    "### Opening a file in read mode which does not exist"
   ]
  },
  {
   "cell_type": "code",
   "execution_count": 1,
   "id": "283fe0b7",
   "metadata": {},
   "outputs": [
    {
     "name": "stdout",
     "output_type": "stream",
     "text": [
      "Error handled\n"
     ]
    }
   ],
   "source": [
    "try:    \n",
    "    file = open('Bikes.txt','r')\n",
    "except FileNotFoundError:\n",
    "    print('Error handled')"
   ]
  },
  {
   "cell_type": "markdown",
   "id": "0a1d212d",
   "metadata": {},
   "source": [
    "### Rewrite program for factorial of a number with exception handling"
   ]
  },
  {
   "cell_type": "code",
   "execution_count": 2,
   "id": "dd08dfc1",
   "metadata": {},
   "outputs": [
    {
     "name": "stdout",
     "output_type": "stream",
     "text": [
      "Factorial of a number : 5\n",
      "120\n"
     ]
    }
   ],
   "source": [
    "import math\n",
    "\n",
    "n = int(input('Factorial of a number : '))\n",
    "\n",
    "try:\n",
    "    print(math.factorial(n))\n",
    "except ValueError:\n",
    "    print('Please enter positive numbers')\n"
   ]
  },
  {
   "cell_type": "code",
   "execution_count": null,
   "id": "2455502a",
   "metadata": {},
   "outputs": [],
   "source": []
  }
 ],
 "metadata": {
  "kernelspec": {
   "display_name": "Python 3",
   "language": "python",
   "name": "python3"
  },
  "language_info": {
   "codemirror_mode": {
    "name": "ipython",
    "version": 3
   },
   "file_extension": ".py",
   "mimetype": "text/x-python",
   "name": "python",
   "nbconvert_exporter": "python",
   "pygments_lexer": "ipython3",
   "version": "3.8.8"
  }
 },
 "nbformat": 4,
 "nbformat_minor": 5
}
