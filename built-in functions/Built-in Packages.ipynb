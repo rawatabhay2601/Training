{
 "cells": [
  {
   "cell_type": "markdown",
   "id": "c442735f",
   "metadata": {},
   "source": [
    "# Built-in Packages"
   ]
  },
  {
   "cell_type": "markdown",
   "id": "7c5de72c",
   "metadata": {},
   "source": [
    "### Demonstrating date time manipulation using datetime (check)"
   ]
  },
  {
   "cell_type": "code",
   "execution_count": 3,
   "id": "adbb64e4",
   "metadata": {},
   "outputs": [
    {
     "data": {
      "text/plain": [
       "Timestamp('2014-01-01 14:43:00')"
      ]
     },
     "execution_count": 3,
     "metadata": {},
     "output_type": "execute_result"
    }
   ],
   "source": [
    "import pandas as pd\n",
    "import datetime as dt\n",
    "\n",
    "datetime_str = 'Jan 01 2014 2:43PM'\n",
    "pd.to_datetime(datetime_str, format = '%b %d %Y %I:%M%p')"
   ]
  },
  {
   "cell_type": "code",
   "execution_count": 4,
   "id": "70a50a53",
   "metadata": {},
   "outputs": [
    {
     "data": {
      "text/plain": [
       "datetime.date(2021, 8, 13)"
      ]
     },
     "execution_count": 4,
     "metadata": {},
     "output_type": "execute_result"
    }
   ],
   "source": [
    "from datetime import date, timedelta\n",
    "\n",
    "dte = date.today() - timedelta(5)    #date 5 days before\n",
    "dte"
   ]
  },
  {
   "cell_type": "code",
   "execution_count": 5,
   "id": "3c124483",
   "metadata": {},
   "outputs": [
    {
     "data": {
      "text/plain": [
       "'2010-09-10 09:01:22'"
      ]
     },
     "execution_count": 5,
     "metadata": {},
     "output_type": "execute_result"
    }
   ],
   "source": [
    "dt.datetime.fromtimestamp(int('1284105682')).strftime('%Y-%m-%d %H:%M:%S')"
   ]
  },
  {
   "cell_type": "code",
   "execution_count": 6,
   "id": "06f39a8d",
   "metadata": {},
   "outputs": [
    {
     "data": {
      "text/plain": [
       "0   2059-09-07\n",
       "1   2055-01-01\n",
       "2   2047-12-15\n",
       "3   2042-07-11\n",
       "dtype: datetime64[ns]"
      ]
     },
     "execution_count": 6,
     "metadata": {},
     "output_type": "execute_result"
    }
   ],
   "source": [
    "DoB = pd.Series([\"07Sep59\",\"01Jan55\",\"15Dec47\",\"11Jul42\"])\n",
    "pd.to_datetime(DoB, format = '%d%b%y')"
   ]
  },
  {
   "cell_type": "markdown",
   "id": "7a84eac6",
   "metadata": {},
   "source": [
    "### Writing a multi-threaded countdown timer program"
   ]
  },
  {
   "cell_type": "code",
   "execution_count": 1,
   "id": "0a2aa973",
   "metadata": {},
   "outputs": [
    {
     "name": "stdout",
     "output_type": "stream",
     "text": [
      "What is your name? Abhay\n",
      "Welcome  Abhay\n"
     ]
    }
   ],
   "source": [
    "from threading import Thread\n",
    "from time import sleep\n",
    "import sys\n",
    "\n",
    "def timer():\n",
    "    sleep(30)   # 30 seconds timer\n",
    "    sys.exit() # stops program after timer runs out\n",
    "\n",
    "def program_to_run():\n",
    "    name = input(\"What is your name? \")\n",
    "    return print('Welcome ',name)\n",
    "\n",
    "t1 = Thread(target=timer)\n",
    "t2 = Thread(target=program_to_run)\n",
    "t1.start() #Calls first function\n",
    "t2.start() #Calls second function to run at same time"
   ]
  },
  {
   "cell_type": "code",
   "execution_count": null,
   "id": "e328bc93",
   "metadata": {},
   "outputs": [],
   "source": []
  }
 ],
 "metadata": {
  "kernelspec": {
   "display_name": "Python 3",
   "language": "python",
   "name": "python3"
  },
  "language_info": {
   "codemirror_mode": {
    "name": "ipython",
    "version": 3
   },
   "file_extension": ".py",
   "mimetype": "text/x-python",
   "name": "python",
   "nbconvert_exporter": "python",
   "pygments_lexer": "ipython3",
   "version": "3.8.8"
  }
 },
 "nbformat": 4,
 "nbformat_minor": 5
}
