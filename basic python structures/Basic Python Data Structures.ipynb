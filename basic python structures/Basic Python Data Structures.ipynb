{
 "cells": [
  {
   "cell_type": "markdown",
   "id": "9dc1a81e",
   "metadata": {},
   "source": [
    "### Demonstrate get(), items() , values() and keys()"
   ]
  },
  {
   "cell_type": "code",
   "execution_count": 1,
   "id": "099afaf6",
   "metadata": {},
   "outputs": [
    {
     "name": "stdout",
     "output_type": "stream",
     "text": [
      "[10, 20, 30]\n",
      "dict_items([('a', [10, 20, 30]), ('b', [20, 40, 60]), ('c', [40, 80, 120])])\n",
      "dict_values([[10, 20, 30], [20, 40, 60], [40, 80, 120]])\n",
      "dict_keys(['a', 'b', 'c'])\n"
     ]
    }
   ],
   "source": [
    "new_dict = {'a':[10,20,30],'b':[20,40,60],'c':[40,80,120]}\n",
    "\n",
    "\n",
    "print(new_dict.get('a'))   #get()\n",
    "print(new_dict.items())   #items \n",
    "print(new_dict.values())   #values \n",
    "print(new_dict.keys())   #keys "
   ]
  },
  {
   "cell_type": "markdown",
   "id": "d96d13a1",
   "metadata": {},
   "source": [
    "### Store 3 tuples in another tuple and print it in reverse"
   ]
  },
  {
   "cell_type": "code",
   "execution_count": 2,
   "id": "08745b03",
   "metadata": {},
   "outputs": [
    {
     "name": "stdout",
     "output_type": "stream",
     "text": [
      "((9, 8, 6), (2, 5, 6), (1, 2, 3))\n"
     ]
    }
   ],
   "source": [
    "a = tuple([1,2,3])\n",
    "b = tuple([2,5,6])\n",
    "c = tuple([9,8,6])\n",
    "new_tuple = tuple([a,b,c])\n",
    "\n",
    "print(new_tuple[::-1])   #printing the reverse"
   ]
  },
  {
   "cell_type": "markdown",
   "id": "08a36244",
   "metadata": {},
   "source": [
    "### What are some properties of Frozen sets? Demonstrate"
   ]
  },
  {
   "cell_type": "markdown",
   "id": "18739a27",
   "metadata": {},
   "source": [
    "The frozenset() is an inbuilt function in Python which takes an iterable object as input and makes them immutable. Simply it freezes the iterable objects and makes them unchangeable.\n",
    "Only unique values are present in the set\n",
    "Frozen sets are immutable so we cannot remove or add values or assign new values\n",
    "They are un-ordered\n",
    "They are iterable objects"
   ]
  },
  {
   "cell_type": "code",
   "execution_count": 3,
   "id": "7d802029",
   "metadata": {},
   "outputs": [
    {
     "ename": "TypeError",
     "evalue": "'frozenset' object does not support item assignment",
     "output_type": "error",
     "traceback": [
      "\u001b[1;31m---------------------------------------------------------------------------\u001b[0m",
      "\u001b[1;31mTypeError\u001b[0m                                 Traceback (most recent call last)",
      "\u001b[1;32m<ipython-input-3-e825f853301d>\u001b[0m in \u001b[0;36m<module>\u001b[1;34m\u001b[0m\n\u001b[0;32m      5\u001b[0m \u001b[1;33m\u001b[0m\u001b[0m\n\u001b[0;32m      6\u001b[0m \u001b[1;31m# below line will generate error\u001b[0m\u001b[1;33m\u001b[0m\u001b[1;33m\u001b[0m\u001b[1;33m\u001b[0m\u001b[0m\n\u001b[1;32m----> 7\u001b[1;33m \u001b[0mf_names\u001b[0m\u001b[1;33m[\u001b[0m\u001b[1;36m1\u001b[0m\u001b[1;33m]\u001b[0m \u001b[1;33m=\u001b[0m \u001b[1;34m\"A\"\u001b[0m\u001b[1;33m\u001b[0m\u001b[1;33m\u001b[0m\u001b[0m\n\u001b[0m",
      "\u001b[1;31mTypeError\u001b[0m: 'frozenset' object does not support item assignment"
     ]
    }
   ],
   "source": [
    "names = [\"Abhay\", \"Akash\"]\n",
    " \n",
    "# making it frozenset type\n",
    "f_names = frozenset(names)\n",
    " \n",
    "# below line will generate error\n",
    "f_names[1] = \"A\""
   ]
  },
  {
   "cell_type": "code",
   "execution_count": 4,
   "id": "8c99d238",
   "metadata": {},
   "outputs": [
    {
     "name": "stdout",
     "output_type": "stream",
     "text": [
      "The frozen set is: frozenset({'name', 'address', 'sex', 'age'})\n"
     ]
    }
   ],
   "source": [
    "data = {\"name\": \"Abhay\", \"age\": 22, \"sex\": \"Male\",\"address\": \"Dehradun\"}\n",
    " \n",
    "# making keys of dictionary as frozenset\n",
    "key = frozenset(data)\n",
    " \n",
    "print('The frozen set is:', key)"
   ]
  },
  {
   "cell_type": "code",
   "execution_count": 5,
   "id": "441d6bd5",
   "metadata": {},
   "outputs": [
    {
     "name": "stdout",
     "output_type": "stream",
     "text": [
      "name\n",
      "address\n",
      "sex\n",
      "age\n"
     ]
    }
   ],
   "source": [
    "for i in key:\n",
    "    print(i)  #iterating over a frozen set"
   ]
  },
  {
   "cell_type": "markdown",
   "id": "a9f9947b",
   "metadata": {},
   "source": [
    "### Demonstrate d[1]='w', demonstrate built-in fun on Strings"
   ]
  },
  {
   "cell_type": "code",
   "execution_count": 6,
   "id": "aa135388",
   "metadata": {},
   "outputs": [
    {
     "name": "stdout",
     "output_type": "stream",
     "text": [
      "['W', 'e', 's', 't']\n"
     ]
    }
   ],
   "source": [
    "d = 'West'\n",
    "\n",
    "a = list(d)   # splitting the word\n",
    "print(a)    # now we can access any alphabet"
   ]
  },
  {
   "cell_type": "markdown",
   "id": "7367c039",
   "metadata": {},
   "source": [
    "### Convert Immutable dict to a dict"
   ]
  },
  {
   "cell_type": "code",
   "execution_count": 7,
   "id": "9e41074f",
   "metadata": {},
   "outputs": [
    {
     "name": "stdout",
     "output_type": "stream",
     "text": [
      "<class 'dict'>\n"
     ]
    }
   ],
   "source": [
    "from immutabledict import immutabledict\n",
    "\n",
    "items = immutabledict({\"a\": \"Bikes\", \"b\": \"Cars\"})\n",
    "new_items = dict(items)\n",
    "print(type(new_items))"
   ]
  },
  {
   "cell_type": "markdown",
   "id": "256f364e",
   "metadata": {},
   "source": [
    "### Can a set can hold duplicate Values? Demonstrate"
   ]
  },
  {
   "cell_type": "code",
   "execution_count": 8,
   "id": "02b6703e",
   "metadata": {},
   "outputs": [
    {
     "data": {
      "text/plain": [
       "{'a', 'b', 'c'}"
      ]
     },
     "execution_count": 8,
     "metadata": {},
     "output_type": "execute_result"
    }
   ],
   "source": [
    "dup_list = ['a','b','b','c','a']\n",
    "\n",
    "#sets are unordered\n",
    "\n",
    "new_set = set(dup_list)    #type casting a list into set\n",
    "new_set"
   ]
  },
  {
   "cell_type": "markdown",
   "id": "616fa9d9",
   "metadata": {},
   "source": [
    "### Name 5 built-in function on list and tuples both"
   ]
  },
  {
   "cell_type": "markdown",
   "id": "e8c0ecea",
   "metadata": {},
   "source": [
    "Lists built-in functions :-\n",
    "- max()\n",
    "- min()\n",
    "- len()\n",
    "- list()\n",
    "- cmp()\n",
    "Tuples built-in functions :-\n",
    "- cmp()\n",
    "- max()\n",
    "- min()\n",
    "- len()\n",
    "- tuple()"
   ]
  },
  {
   "cell_type": "markdown",
   "id": "0464919d",
   "metadata": {},
   "source": [
    "### Slice a List and convert it to a set"
   ]
  },
  {
   "cell_type": "code",
   "execution_count": 9,
   "id": "4964461e",
   "metadata": {},
   "outputs": [
    {
     "data": {
      "text/plain": [
       "{1, 'a', 'b'}"
      ]
     },
     "execution_count": 9,
     "metadata": {},
     "output_type": "execute_result"
    }
   ],
   "source": [
    "old_list = [1,'a','b','c',2,3]\n",
    "new_list = old_list[:3]\n",
    "new_set = set(new_list)\n",
    "new_set"
   ]
  },
  {
   "cell_type": "markdown",
   "id": "91e77bd9",
   "metadata": {},
   "source": [
    "### Demonstrate slicing of tuple"
   ]
  },
  {
   "cell_type": "code",
   "execution_count": 10,
   "id": "d9e5328c",
   "metadata": {},
   "outputs": [
    {
     "data": {
      "text/plain": [
       "(2, 3, 4)"
      ]
     },
     "execution_count": 10,
     "metadata": {},
     "output_type": "execute_result"
    }
   ],
   "source": [
    "tup = (2,3,4,5,5)\n",
    "new_tup = tup[:3]\n",
    "new_tup"
   ]
  },
  {
   "cell_type": "markdown",
   "id": "fdde8e4d",
   "metadata": {},
   "source": [
    "### Demonstrate unpacking of a tuple"
   ]
  },
  {
   "cell_type": "code",
   "execution_count": 11,
   "id": "ba3b2290",
   "metadata": {},
   "outputs": [
    {
     "name": "stdout",
     "output_type": "stream",
     "text": [
      "2\n",
      "3\n",
      "4\n"
     ]
    }
   ],
   "source": [
    "a,b,c = (2,3,4)\n",
    "print(a)\n",
    "print(b)\n",
    "print(c)"
   ]
  },
  {
   "cell_type": "code",
   "execution_count": null,
   "id": "2056a837",
   "metadata": {},
   "outputs": [],
   "source": []
  }
 ],
 "metadata": {
  "kernelspec": {
   "display_name": "Python 3",
   "language": "python",
   "name": "python3"
  },
  "language_info": {
   "codemirror_mode": {
    "name": "ipython",
    "version": 3
   },
   "file_extension": ".py",
   "mimetype": "text/x-python",
   "name": "python",
   "nbconvert_exporter": "python",
   "pygments_lexer": "ipython3",
   "version": "3.8.8"
  }
 },
 "nbformat": 4,
 "nbformat_minor": 5
}
