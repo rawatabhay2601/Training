{
 "cells": [
  {
   "cell_type": "markdown",
   "id": "5e02fe54",
   "metadata": {},
   "source": [
    "### Rewriting Fibonacci Series using method based approach"
   ]
  },
  {
   "cell_type": "code",
   "execution_count": 1,
   "id": "97a81b5a",
   "metadata": {},
   "outputs": [
    {
     "name": "stdout",
     "output_type": "stream",
     "text": [
      "Give the length for fibonacci series : 8\n",
      "[0, 1, 2, 3, 5, 8, 13]\n"
     ]
    }
   ],
   "source": [
    "first=0\n",
    "second=1\n",
    "\n",
    "n = int(input(\"Give the length for fibonacci series : \"))\n",
    "\n",
    "fib_series = []\n",
    "\n",
    "for i in range(0,n):\n",
    "    if i<1:\n",
    "        fib_series.append(i)\n",
    "    elif i>1:\n",
    "        result = first + second\n",
    "        first = second\n",
    "        second = result\n",
    "        fib_series.append(result)\n",
    "        \n",
    "print(fib_series)\n"
   ]
  },
  {
   "cell_type": "markdown",
   "id": "14ea1610",
   "metadata": {},
   "source": [
    "### Rewriting Calculator program using method based approach (check)"
   ]
  },
  {
   "cell_type": "code",
   "execution_count": 2,
   "id": "72cae641",
   "metadata": {},
   "outputs": [
    {
     "name": "stdout",
     "output_type": "stream",
     "text": [
      "Enter 1st Number: 7\n",
      "Enter 2nd Number: 8\n",
      "56\n"
     ]
    }
   ],
   "source": [
    "a = int(input(\"Enter 1st Number: \"))\n",
    "b = int(input(\"Enter 2nd Number: \"))\n",
    "def calculator(option):\n",
    "    switcher = {\n",
    "    'addition':a+b,\n",
    "    'multiplication':a*b,\n",
    "    'subtraction':a-b,\n",
    "    'division':a/b,\n",
    "    'floor division':a // b,\n",
    "    'modulo':a % b\n",
    "    }\n",
    "    return switcher.get(option,\"Invalid Option!\")\n",
    "\n",
    "result = calculator('multiplication')\n",
    "print(result)"
   ]
  },
  {
   "cell_type": "markdown",
   "id": "dffc1ddb",
   "metadata": {},
   "source": [
    "### Writing a boolean method and executing in loop to identify Armstrong numbers in an array"
   ]
  },
  {
   "cell_type": "code",
   "execution_count": 3,
   "id": "a4da0fed",
   "metadata": {},
   "outputs": [
    {
     "name": "stdout",
     "output_type": "stream",
     "text": [
      "[370]\n"
     ]
    }
   ],
   "source": [
    "list_of_num = [370,200,859,775]\n",
    "\n",
    "armstrong_numbers = []\n",
    "\n",
    "for i in list_of_num:   #iterating over the range\n",
    "    \n",
    "    no_of_digits = len(str(i))\n",
    "    list_digits = [int(x) for x in str(i)]\n",
    "    squares = [y**no_of_digits for y in list_digits]\n",
    "\n",
    "    sum_of_square = 0\n",
    "    for j in squares:\n",
    "        sum_of_square += j\n",
    "\n",
    "    if int(sum_of_square) == int(i):\n",
    "        armstrong_numbers.append(int(i))\n",
    "\n",
    "print(armstrong_numbers)"
   ]
  },
  {
   "cell_type": "markdown",
   "id": "fd37cb42",
   "metadata": {},
   "source": [
    "### Changing default search path for modules"
   ]
  },
  {
   "cell_type": "code",
   "execution_count": 5,
   "id": "b08017c8",
   "metadata": {},
   "outputs": [],
   "source": [
    "from os.path import dirname,abspath\n",
    "import sys\n",
    "\n",
    "d = dirname(dirname(abspath('__file__')))  #this will dynamically change the path \n",
    "\n",
    "sys.path.append(d)"
   ]
  },
  {
   "cell_type": "code",
   "execution_count": null,
   "id": "3e1e13a4",
   "metadata": {},
   "outputs": [],
   "source": []
  }
 ],
 "metadata": {
  "kernelspec": {
   "display_name": "Python 3",
   "language": "python",
   "name": "python3"
  },
  "language_info": {
   "codemirror_mode": {
    "name": "ipython",
    "version": 3
   },
   "file_extension": ".py",
   "mimetype": "text/x-python",
   "name": "python",
   "nbconvert_exporter": "python",
   "pygments_lexer": "ipython3",
   "version": "3.8.8"
  }
 },
 "nbformat": 4,
 "nbformat_minor": 5
}
