{
 "cells": [
  {
   "cell_type": "markdown",
   "id": "e4b07140",
   "metadata": {},
   "source": [
    "# Database Programming with Python"
   ]
  },
  {
   "cell_type": "markdown",
   "id": "859fe8d0",
   "metadata": {},
   "source": [
    "### Store user inputs in databases"
   ]
  },
  {
   "cell_type": "code",
   "execution_count": null,
   "id": "c57c7950",
   "metadata": {},
   "outputs": [],
   "source": [
    "a = input('What is your name?' )\n",
    "b = input('How are you? ')\n",
    "c = int(input('What is your age? '))\n",
    "\n",
    "import mysql.connector\n",
    "#connecting to server\n",
    "\n",
    "con = mysql.coonector.connect(\n",
    "    host = \"127.0.0.1\",\n",
    "    port = 3306,\n",
    "    user = \"root\",\n",
    "    password = \"Abhay@26\",\n",
    "    database = 'world')\n",
    "\n",
    "#storing data into database\n",
    "df_country = pd.read_sql_query(\"insert into people (name,condition,age) values ({},{},{})\".format(a,b,c),con)\n",
    "df_country"
   ]
  },
  {
   "cell_type": "markdown",
   "id": "679c938e",
   "metadata": {},
   "source": [
    "### Load data from databases"
   ]
  },
  {
   "cell_type": "code",
   "execution_count": null,
   "id": "05aa4251",
   "metadata": {},
   "outputs": [],
   "source": [
    "import mysql.connector\n",
    "#connecting to server\n",
    "\n",
    "con = mysql.coonector.connect(\n",
    "    host = \"127.0.0.1\",\n",
    "    port = 3306,\n",
    "    user = \"root\",\n",
    "    password = \"Abhay@26\",\n",
    "    database = 'world')\n",
    "\n",
    "#loading data from database\n",
    "df_country = pd.read_sql_query(\"select * from country\",con)\n",
    "df_country"
   ]
  }
 ],
 "metadata": {
  "kernelspec": {
   "display_name": "Python 3",
   "language": "python",
   "name": "python3"
  },
  "language_info": {
   "codemirror_mode": {
    "name": "ipython",
    "version": 3
   },
   "file_extension": ".py",
   "mimetype": "text/x-python",
   "name": "python",
   "nbconvert_exporter": "python",
   "pygments_lexer": "ipython3",
   "version": "3.8.8"
  }
 },
 "nbformat": 4,
 "nbformat_minor": 5
}
